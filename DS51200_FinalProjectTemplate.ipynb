{
 "cells": [
  {
   "cell_type": "markdown",
   "id": "45762487-d33f-486d-8e38-2cdea04e3528",
   "metadata": {},
   "source": [
    "# Final Project Report\n",
    "\n",
    "* Class: DS 5100\n",
    "* Student Name: Camisha Belle\n",
    "* Student Net ID: fbv2ub\n",
    "* This URL: https://github.com/clbelle/Monte-Carlo-Simulator_fbv2ub"
   ]
  },
  {
   "cell_type": "markdown",
   "id": "acf756c1-ecaa-41dc-b6ca-d566eb94560b",
   "metadata": {},
   "source": [
    "# Instructions\n",
    "\n",
    "Follow the instructions in the Final Project isntructions notebook and put evidence of your work in this notebook.\n",
    "\n",
    "Total points for each subsection under **Deliverables** and **Scenarios** are given in parentheses.\n",
    "\n",
    "Breakdowns of points within subsections are specified within subsection instructions as bulleted lists.\n",
    "\n",
    "This project is worth **50 points**."
   ]
  },
  {
   "cell_type": "markdown",
   "id": "89dc7a32-f682-4402-8c1e-b6ccdb3e0e39",
   "metadata": {},
   "source": [
    "# Deliverables"
   ]
  },
  {
   "cell_type": "markdown",
   "id": "d32cb273-9a40-4909-a7ce-51f6e4958d3c",
   "metadata": {},
   "source": [
    "## The Monte Carlo Module (10)\n",
    "\n",
    "- URL included, appropriately named (1).\n",
    "- Includes all three specified classes (3).\n",
    "- Includes at least all 12 specified methods (6; .5 each)."
   ]
  },
  {
   "cell_type": "markdown",
   "id": "f5f3b070-de9e-4de9-bfae-8974d184aa28",
   "metadata": {},
   "source": [
    "Put the URL to your GitHub repo here.\n",
    "\n",
    "Repo URL: https://github.com/clbelle/Monte-Carlo-Simulator_fbv2ub"
   ]
  },
  {
   "cell_type": "markdown",
   "id": "162370fb-3729-4c85-b040-8c25b2c966d2",
   "metadata": {},
   "source": [
    "Paste a copyy of your module here.\n",
    "\n",
    "NOTE: Paste as text, not as code. Use triple backticks to wrap your code blocks.\n",
    "\n",
    "```\n",
    "# Monte Carlo Simulator\n",
    "\n",
    "# The module will implement a simple Monte Carlo simulator using a set of three related classes:\n",
    "# - a Die class;\n",
    "# - a Game class; and \n",
    "# - an Analyzer class.\n",
    "\n",
    "# The classes are related in the following way: Game objects are initialized with a Die object; and Analyzer objects are initialized with a Game object. [Die] → [Game] → [Analyzer]\n",
    "\n",
    "# Set up: calls global packages and defines global variables\n",
    "import numpy as np\n",
    "import pandas as pd\n",
    "\n",
    "# Die class\n",
    "\n",
    "class DieClass():\n",
    "    \n",
    "    '''\n",
    "    Allows the user to define a die with N sides (“faces”) and associated weights (W), that can be \n",
    "    rolled to select a face. The user also defines the number of times the die is rolled.\n",
    "    \n",
    "    Purpose: Provide initial input for a Monte Carlo simulator. This section replicates creation of \n",
    "    a discrete random variable associated with a stochastic process, such as using a deck of cards, \n",
    "    flipping a coin, rolling an actual die, or speaking a language.\n",
    "    \n",
    "    Input(s): a numpy array of the user's choice, a new weight for one side of the die being created, and\n",
    "    a value for the number of times to roll the die.\n",
    "    \n",
    "    Output(s): A copy of a die data frame that has the sides as an index\n",
    "    '''\n",
    "        \n",
    "    def __init__(self, sides):\n",
    "                  \n",
    "        '''\n",
    "        Builds the die according to the user input, number of faces (sides).\n",
    "        \n",
    "        Purpose: Sets up the dataframe representing the user's die. Checks to ensure the die's faces\n",
    "        are unique.\n",
    "        \n",
    "        Input(s): number of die sides (faces), new weight for one side of the die, number of times to\n",
    "        roll the die\n",
    "        \n",
    "        Output(s): copy of the die data frame\n",
    "        '''\n",
    "        \n",
    "        # Checks for NumPy array\n",
    "        if not isinstance(sides, np.ndarray):\n",
    "            raise TypeError(\"The input must be a NumPy array\")\n",
    "\n",
    "        # Check for unique elements within the array\n",
    "        if len(sides) != len(np.unique(sides)):\n",
    "            raise ValueError(\"The array must contain unique faces (no duplicates)\")\n",
    "\n",
    "        # Initialize the weights and private data frame\n",
    "        self._data = pd.DataFrame({\"face\": sides, \"weight\": np.ones(len(sides))}).set_index(\"face\")\n",
    "        \n",
    "    def set_weight(self, face, new_weight):\n",
    "        \n",
    "        '''\n",
    "        Sets the die face weights to one then allows the user to change one of the sides\n",
    "        \n",
    "        Purpose: Initializes the die's weights then allows the user to change the weight of one side.\n",
    "        \n",
    "        Input(s): die data frame; the side of the die to change; new weight\n",
    "        \n",
    "        Output(s): The data frame with the new weight assigned\n",
    "        '''\n",
    "        \n",
    "        # Make sure the selected face exists in the data frame\n",
    "        if face not in self._data.index:\n",
    "            raise IndexError(f\"Face {face} is not valid.\")\n",
    "\n",
    "        # Ensure the new weight is numeric\n",
    "        try:\n",
    "            new_weight = float(new_weight)\n",
    "        except ValueError:\n",
    "            raise TypeError(\"Weight must be a numeric value.\")\n",
    "\n",
    "        # Update the weight\n",
    "        self._data.at[face, \"weight\"] = new_weight\n",
    "\n",
    "        \n",
    "    def roll(self, num_rolls=1):\n",
    "        \n",
    "        '''\n",
    "        Rolls the die created in the prior functions\n",
    "        \n",
    "        Purpose: Roll the die to generate the stochastic process.\n",
    "        \n",
    "        Input(s): adjusted die data frame; number of times the user will roll the die\n",
    "        \n",
    "        Output(s): Outcomes of the die rolls\n",
    "        '''\n",
    "        \n",
    "        # Validate that num_rolls is an integer and positive\n",
    "        if not isinstance(num_rolls, int) or num_rolls <= 0:\n",
    "            raise ValueError(\"Number of rolls must be a positive integer.\")\n",
    "\n",
    "        # Perform weighted sampling\n",
    "        outcomes = self._data.sample(n=num_rolls, weights=\"weight\", replace=True).index.tolist()\n",
    "        return outcomes\n",
    "\n",
    "    def show(self):\n",
    "        \n",
    "        '''\n",
    "        Sets the die face weights to one then allows the user to change one of the sides\n",
    "        \n",
    "        Purpose: Initializes the die's weights then allows the user to change the weight of one side.\n",
    "        \n",
    "        Input(s): die data frame; the side of the die to change; new weight\n",
    "        \n",
    "        Output(s): The data frame with the new weight assigned\n",
    "        '''\n",
    "        # Returns the die data frame\n",
    "        return self._data.copy()\n",
    "\n",
    "# Game class\n",
    "\n",
    "class Game:\n",
    "            \n",
    "    '''\n",
    "    Allows the user to generate the game values. The user indicates the number of rolls.\n",
    "    \n",
    "    Purpose: Allows the end user to indicate the number of rolls to generate as many dice as needed.\n",
    "    \n",
    "    Input(s): dataframe for the die; a value for the number of times to roll the die.\n",
    "    \n",
    "    Output(s): A list os dice rolls generated by the end user.\n",
    "    '''\n",
    "    \n",
    "    def __init__(self, dice_list):\n",
    "        '''\n",
    "        Initializer - Initializes the game with a list of die objects created in the DieClass class above.\n",
    "        \n",
    "        Purpose: Initializes the game.\n",
    "        \n",
    "        Input(s): DieClass objects\n",
    "        \n",
    "        Output(s): Initialized variables\n",
    "        '''\n",
    "        # Dice list\n",
    "        self.dice = dice_list\n",
    "        # Stores the results of the game play\n",
    "        self._play_results = None\n",
    "\n",
    "    def play(self, num_rolls):\n",
    "        '''\n",
    "        Simulate dice rolls for the number of rolls provided.\n",
    "        \n",
    "        Purpose: Rolls the dice.\n",
    "        \n",
    "        Input(s): num_rolls - Number of times to roll the dice\n",
    "        \n",
    "        Output(s): Wide format data frame\n",
    "        '''\n",
    "        if not isinstance(num_rolls, int) or num_rolls <= 0:\n",
    "            raise ValueError(\"Number of rolls must be a positive integer.\")\n",
    "\n",
    "        # Simulate rolls for each die\n",
    "        results = {f\"Die_{i}\": die.roll(num_rolls) for i, die in enumerate(self.dice)}\n",
    "        results[\"Roll_Number\"] = range(1, num_rolls + 1)\n",
    "\n",
    "        # Create a wide-format DataFrame\n",
    "        self._play_results = pd.DataFrame(results).set_index(\"Roll_Number\")\n",
    "\n",
    "    def show(self, form=\"wide\"):\n",
    "        '''\n",
    "        Purpose: Return the results of the most recent play in the specified format.\n",
    "        \n",
    "        Input(s): string specifying the format ('wide' or 'narrow').\n",
    "        \n",
    "        Output(s): A copy of the play results in the desired format.\n",
    "        '''\n",
    "        \n",
    "        if self._play_results is None:\n",
    "            raise ValueError(\"No results available. Please call the 'play' method first.\")\n",
    "\n",
    "        if form == \"wide\":\n",
    "            return self._play_results.copy()\n",
    "        elif form == \"narrow\":\n",
    "            # Convert to narrow format\n",
    "            narrow_df = self._play_results.reset_index().melt(\n",
    "                id_vars=[\"Roll_Number\"],\n",
    "                var_name=\"Die_Number\",\n",
    "                value_name=\"Outcome\"\n",
    "            )\n",
    "            return narrow_df.set_index([\"Roll_Number\", \"Die_Number\"])\n",
    "        else:\n",
    "            raise ValueError(\"Invalid format. Choose 'wide' or 'narrow'.\")\n",
    "\n",
    "# Analyzer class\n",
    "\n",
    "class Analyzer:\n",
    "            \n",
    "    '''\n",
    "    Determines how the dice rolls in the game class worked.\n",
    "    \n",
    "    Purpose: To evaluate the dice rolls generated within the Game class.\n",
    "    \n",
    "    Input(s): A dataframe including the roll id number, the die number, and the outcome of the rolls.\n",
    "    \n",
    "    Output(s): Computations of the number of results within each type of method: jackpot; face counts;\n",
    "    combo count; and permutation.\n",
    "    '''\n",
    "    \n",
    "    def __init__(self, game):\n",
    "        '''\n",
    "        Purpose: Initializes the Analyzer with a game object.\n",
    "        \n",
    "        Input(s): Game object containing the results of a game play.\n",
    "        \n",
    "        Output(s): Initialized variables\n",
    "        '''\n",
    "        if not isinstance(game, Game):\n",
    "            raise ValueError(\"The input must be a Game object.\")\n",
    "        \n",
    "        self.game = game\n",
    "        # Pulls the results from the games module in wide format\n",
    "        self._results = game.show(form=\"wide\")  \n",
    "\n",
    "    def jackpot(self):\n",
    "        '''\n",
    "        Purpose: Compute the number of jackpots (rolls where all faces are the same).\n",
    "        \n",
    "        Output(s): Integer count of the number of jackpots.\n",
    "        '''\n",
    "        # Check if all columns in a row are identical\n",
    "        jackpot_count = (self._results.nunique(axis=1) == 1).sum()\n",
    "        return jackpot_count\n",
    "\n",
    "    def face_counts_per_roll(self):\n",
    "        '''\n",
    "        Purpose: Compute numnber of times each face appears in each roll.\n",
    "        \n",
    "        Output(s): dataframe with the number of rolls as the index and face counts as columns.\n",
    "        '''\n",
    "        # Count occurrences of each face for each roll\n",
    "        face_counts = self._results.apply(pd.Series.value_counts, axis=1).fillna(0).astype(int)\n",
    "        return face_counts\n",
    "\n",
    "    def combo_count(self):\n",
    "        '''\n",
    "        Computes the distinct combinations of faces rolled and their counts.\n",
    "        Combinations are independent of the order.\n",
    "        \n",
    "        Output(s): dataframe with a multiindex of distinct combinations and a column for counts.\n",
    "        '''\n",
    "        # Sort each row to ensure order-independent combinations\n",
    "        sorted_results = self._results.apply(lambda x: tuple(sorted(x)), axis=1)\n",
    "        combo_counts = sorted_results.value_counts().to_frame(\"Counts\")\n",
    "        combo_counts.index.name = \"Combination\"\n",
    "        return combo_counts\n",
    "\n",
    "    def permutation_count(self):\n",
    "        '''\n",
    "        Purpose: Computes the distinct permutations of faces rolled and their counts. Permutations \n",
    "        are order-dependent.\n",
    "        \n",
    "        Output(s): dataframe with a multiindex of distinct permutations and a column for counts.\n",
    "        '''\n",
    "        # Treat each row as a tuple to maintain order\n",
    "        permutation_counts = self._results.apply(tuple, axis=1).value_counts().to_frame(\"Counts\")\n",
    "        permutation_counts.index.name = \"Permutation\"\n",
    "        return permutation_counts\n",
    "```"
   ]
  },
  {
   "cell_type": "markdown",
   "id": "6377727a-8f0a-491e-9f1c-d9dc225edd35",
   "metadata": {},
   "source": [
    "## Unitest Module (2)\n",
    "\n",
    "Paste a copy of your test module below.\n",
    "\n",
    "NOTE: Paste as text, not as code. Use triple backticks to wrap your code blocks.\n",
    "\n",
    "- All methods have at least one test method (1).\n",
    "- Each method employs one of Unittest's Assert methods (1)."
   ]
  },
  {
   "cell_type": "markdown",
   "id": "0534c8f8-8f8f-4f15-bff6-79419e4441e6",
   "metadata": {},
   "source": [
    "```\n",
    "import unittest\n",
    "import numpy as np\n",
    "import pandas as pd\n",
    "from MonteCarloSimulator import DieClass, Game, Analyzer\n",
    "\n",
    "class TestDieClass(unittest.TestCase):\n",
    "    def setUp(self):\n",
    "        \"\"\"Set up a sample die for testing.\"\"\"\n",
    "        self.die = DieClass(np.array([\"A\", \"B\", \"C\", \"D\"]))\n",
    "\n",
    "    def test_die_initialization(self):\n",
    "        \"\"\"Test the initialization of the die.\"\"\"\n",
    "        self.assertEqual(len(self.die.show()), 4)  # Should have 4 sides\n",
    "        self.assertTrue(all(self.die.show()[\"weight\"] == 1))  # All weights should be 1\n",
    "\n",
    "    def test_set_weight(self):\n",
    "        \"\"\"Test setting a new weight for a die face.\"\"\"\n",
    "        self.die.set_weight(\"A\", 2.5)\n",
    "        self.assertEqual(self.die.show().at[\"A\", \"weight\"], 2.5)\n",
    "\n",
    "    def test_set_weight_invalid_face(self):\n",
    "        \"\"\"Test setting a weight for an invalid face.\"\"\"\n",
    "        with self.assertRaises(IndexError):\n",
    "            self.die.set_weight(\"Z\", 2.5)\n",
    "\n",
    "    def test_roll(self):\n",
    "        \"\"\"Test rolling the die.\"\"\"\n",
    "        outcomes = self.die.roll(10)\n",
    "        self.assertEqual(len(outcomes), 10)\n",
    "        self.assertTrue(all(face in [\"A\", \"B\", \"C\", \"D\"] for face in outcomes))\n",
    "\n",
    "    def test_roll_invalid_input(self):\n",
    "        \"\"\"Test rolling the die with invalid input.\"\"\"\n",
    "        with self.assertRaises(ValueError):\n",
    "            self.die.roll(0)\n",
    "\n",
    "class TestGameClass(unittest.TestCase):\n",
    "    def setUp(self):\n",
    "        \"\"\"Set up a game with multiple dice.\"\"\"\n",
    "        self.die1 = DieClass(np.array([\"A\", \"B\", \"C\"]))\n",
    "        self.die2 = DieClass(np.array([\"X\", \"Y\", \"Z\"]))\n",
    "        self.game = Game([self.die1, self.die2])\n",
    "\n",
    "    def test_game_play(self):\n",
    "        \"\"\"Test playing the game.\"\"\"\n",
    "        self.game.play(5)\n",
    "        results = self.game.show(form=\"wide\")\n",
    "        self.assertEqual(results.shape, (5, 2))  # 5 rolls, 2 dice\n",
    "\n",
    "    def test_game_show_wide(self):\n",
    "        \"\"\"Test showing results in wide format.\"\"\"\n",
    "        self.game.play(3)\n",
    "        wide_results = self.game.show(form=\"wide\")\n",
    "        self.assertEqual(wide_results.shape[0], 3)\n",
    "\n",
    "    def test_game_show_narrow(self):\n",
    "        \"\"\"Test showing results in narrow format.\"\"\"\n",
    "        self.game.play(3)\n",
    "        narrow_results = self.game.show(form=\"narrow\")\n",
    "        self.assertEqual(narrow_results.index.nlevels, 2)  # MultiIndex with Roll_Number and Die_Number\n",
    "\n",
    "    def test_game_invalid_show_format(self):\n",
    "        \"\"\"Test showing results with an invalid format.\"\"\"\n",
    "        self.game.play(3)\n",
    "        with self.assertRaises(ValueError):\n",
    "            self.game.show(form=\"invalid\")\n",
    "\n",
    "class TestAnalyzerClass(unittest.TestCase):\n",
    "    def setUp(self):\n",
    "        \"\"\"Set up a game and analyzer.\"\"\"\n",
    "        self.die1 = DieClass(np.array([\"1\", \"2\", \"3\"]))\n",
    "        self.die2 = DieClass(np.array([\"1\", \"2\", \"3\"]))\n",
    "        self.game = Game([self.die1, self.die2])\n",
    "        self.game.play(5)\n",
    "        self.analyzer = Analyzer(self.game)\n",
    "\n",
    "    def test_analyzer_initialization(self):\n",
    "        \"\"\"Test analyzer initialization.\"\"\"\n",
    "        self.assertIsInstance(self.analyzer, Analyzer)\n",
    "\n",
    "    def test_jackpot(self):\n",
    "        \"\"\"Test the jackpot calculation.\"\"\"\n",
    "        # All rows should be checked for identical values\n",
    "        jackpot_count = self.analyzer.jackpot()\n",
    "        self.assertIsInstance(jackpot_count, int)\n",
    "        self.assertGreaterEqual(jackpot_count, 0)\n",
    "\n",
    "    def test_face_counts_per_roll(self):\n",
    "        \"\"\"Test face counts per roll.\"\"\"\n",
    "        face_counts = self.analyzer.face_counts_per_roll()\n",
    "        self.assertIsInstance(face_counts, pd.DataFrame)\n",
    "        self.assertEqual(face_counts.shape[0], 5)  # 5 rolls\n",
    "\n",
    "    def test_combo_count(self):\n",
    "        \"\"\"Test combination counts.\"\"\"\n",
    "        combo_counts = self.analyzer.combo_count()\n",
    "        self.assertIsInstance(combo_counts, pd.DataFrame)\n",
    "        self.assertGreaterEqual(len(combo_counts), 1)\n",
    "\n",
    "    def test_permutation_count(self):\n",
    "        \"\"\"Test permutation counts.\"\"\"\n",
    "        permutation_counts = self.analyzer.permutation_count()\n",
    "        self.assertIsInstance(permutation_counts, pd.DataFrame)\n",
    "        self.assertGreaterEqual(len(permutation_counts), 1)\n",
    "\n",
    "if __name__ == \"__main__\":\n",
    "    unittest.main()\n",
    "```"
   ]
  },
  {
   "cell_type": "markdown",
   "id": "3e058d03-29bc-408f-b36d-0605b4f4b8c0",
   "metadata": {
    "tags": []
   },
   "source": [
    "## Unittest Results (3)\n",
    "\n",
    "Put a copy of the results of running your tests from the command line here.\n",
    "\n",
    "Again, paste as text using triple backticks.\n",
    "\n",
    "- All 12 specified methods return OK (3; .25 each)."
   ]
  },
  {
   "cell_type": "raw",
   "id": "54691fd0-836c-43c7-adc9-4a09d8aa9ab2",
   "metadata": {
    "tags": []
   },
   "source": [
    "# .............\n",
    "# ----------------------------------------------------------------------\n",
    "# Ran 13 tests in 0.024s\n",
    "\n",
    "# OK"
   ]
  },
  {
   "cell_type": "markdown",
   "id": "d9ffe8c5-eb2f-4ad1-af76-a46550e4c7ac",
   "metadata": {},
   "source": [
    "## Import (1)\n",
    "\n",
    "Import your module here. This import should refer to the code in your package directory.\n",
    "\n",
    "- Module successuflly imported (1)."
   ]
  },
  {
   "cell_type": "code",
   "execution_count": 8,
   "id": "a05dffb3-e6d6-4f78-9df4-5abd0cf74ca9",
   "metadata": {
    "tags": []
   },
   "outputs": [],
   "source": [
    "import MonteCarloSimulator"
   ]
  },
  {
   "cell_type": "markdown",
   "id": "f30c4842-65b1-4556-98b6-3fe1a07e1371",
   "metadata": {},
   "source": [
    "## Help Docs (4)\n",
    "\n",
    "Show your docstring documentation by applying `help()` to your imported module.\n",
    "\n",
    "- All methods have a docstring (3; .25 each).\n",
    "- All classes have a docstring (1; .33 each)."
   ]
  },
  {
   "cell_type": "code",
   "execution_count": 2,
   "id": "bf4fbf1f-9885-471c-a0a6-e9ca90e160de",
   "metadata": {
    "tags": []
   },
   "outputs": [
    {
     "name": "stdout",
     "output_type": "stream",
     "text": [
      "Help on module MonteCarloSimulator:\n",
      "\n",
      "NAME\n",
      "    MonteCarloSimulator - # Monte Carlo Simulator\n",
      "\n",
      "CLASSES\n",
      "    builtins.object\n",
      "        Analyzer\n",
      "        DieClass\n",
      "        Game\n",
      "    \n",
      "    class Analyzer(builtins.object)\n",
      "     |  Analyzer(game)\n",
      "     |  \n",
      "     |  Determines how the dice rolls in the game class worked.\n",
      "     |  \n",
      "     |  Purpose: To evaluate the dice rolls generated within the Game class.\n",
      "     |  \n",
      "     |  Input(s): A dataframe including the roll id number, the die number, and the outcome of the rolls.\n",
      "     |  \n",
      "     |  Output(s): Computations of the number of results within each type of method: jackpot; face counts;\n",
      "     |  combo count; and permutation.\n",
      "     |  \n",
      "     |  Methods defined here:\n",
      "     |  \n",
      "     |  __init__(self, game)\n",
      "     |      Purpose: Initializes the Analyzer with a game object.\n",
      "     |      \n",
      "     |      Input(s): Game object containing the results of a game play.\n",
      "     |      \n",
      "     |      Output(s): Initialized variables\n",
      "     |  \n",
      "     |  combo_count(self)\n",
      "     |      Computes the distinct combinations of faces rolled and their counts.\n",
      "     |      Combinations are independent of the order.\n",
      "     |      \n",
      "     |      Output(s): dataframe with a multiindex of distinct combinations and a column for counts.\n",
      "     |  \n",
      "     |  face_counts_per_roll(self)\n",
      "     |      Purpose: Compute numnber of times each face appears in each roll.\n",
      "     |      \n",
      "     |      Output(s): dataframe with the number of rolls as the index and face counts as columns.\n",
      "     |  \n",
      "     |  jackpot(self)\n",
      "     |      Purpose: Compute the number of jackpots (rolls where all faces are the same).\n",
      "     |      \n",
      "     |      Output(s): Integer count of the number of jackpots.\n",
      "     |  \n",
      "     |  permutation_count(self)\n",
      "     |      Purpose: Computes the distinct permutations of faces rolled and their counts. Permutations \n",
      "     |      are order-dependent.\n",
      "     |      \n",
      "     |      Output(s): dataframe with a multiindex of distinct permutations and a column for counts.\n",
      "     |  \n",
      "     |  ----------------------------------------------------------------------\n",
      "     |  Data descriptors defined here:\n",
      "     |  \n",
      "     |  __dict__\n",
      "     |      dictionary for instance variables (if defined)\n",
      "     |  \n",
      "     |  __weakref__\n",
      "     |      list of weak references to the object (if defined)\n",
      "    \n",
      "    class DieClass(builtins.object)\n",
      "     |  DieClass(sides)\n",
      "     |  \n",
      "     |  Allows the user to define a die with N sides (“faces”) and associated weights (W), that can be \n",
      "     |  rolled to select a face. The user also defines the number of times the die is rolled.\n",
      "     |  \n",
      "     |  Purpose: Provide initial input for a Monte Carlo simulator. This section replicates creation of \n",
      "     |  a discrete random variable associated with a stochastic process, such as using a deck of cards, \n",
      "     |  flipping a coin, rolling an actual die, or speaking a language.\n",
      "     |  \n",
      "     |  Input(s): a numpy array of the user's choice, a new weight for one side of the die being created, and\n",
      "     |  a value for the number of times to roll the die.\n",
      "     |  \n",
      "     |  Output(s): A copy of a die data frame that has the sides as an index\n",
      "     |  \n",
      "     |  Methods defined here:\n",
      "     |  \n",
      "     |  __init__(self, sides)\n",
      "     |      Builds the die according to the user input, number of faces (sides).\n",
      "     |      \n",
      "     |      Purpose: Sets up the dataframe representing the user's die. Checks to ensure the die's faces\n",
      "     |      are unique.\n",
      "     |      \n",
      "     |      Input(s): number of die sides (faces), new weight for one side of the die, number of times to\n",
      "     |      roll the die\n",
      "     |      \n",
      "     |      Output(s): copy of the die data frame\n",
      "     |  \n",
      "     |  roll(self, num_rolls=1)\n",
      "     |      Rolls the die created in the prior functions\n",
      "     |      \n",
      "     |      Purpose: Roll the die to generate the stochastic process.\n",
      "     |      \n",
      "     |      Input(s): adjusted die data frame; number of times the user will roll the die\n",
      "     |      \n",
      "     |      Output(s): Outcomes of the die rolls\n",
      "     |  \n",
      "     |  set_weight(self, face, new_weight)\n",
      "     |      Sets the die face weights to one then allows the user to change one of the sides\n",
      "     |      \n",
      "     |      Purpose: Initializes the die's weights then allows the user to change the weight of one side.\n",
      "     |      \n",
      "     |      Input(s): die data frame; the side of the die to change; new weight\n",
      "     |      \n",
      "     |      Output(s): The data frame with the new weight assigned\n",
      "     |  \n",
      "     |  show(self)\n",
      "     |      Sets the die face weights to one then allows the user to change one of the sides\n",
      "     |      \n",
      "     |      Purpose: Initializes the die's weights then allows the user to change the weight of one side.\n",
      "     |      \n",
      "     |      Input(s): die data frame; the side of the die to change; new weight\n",
      "     |      \n",
      "     |      Output(s): The data frame with the new weight assigned\n",
      "     |  \n",
      "     |  ----------------------------------------------------------------------\n",
      "     |  Data descriptors defined here:\n",
      "     |  \n",
      "     |  __dict__\n",
      "     |      dictionary for instance variables (if defined)\n",
      "     |  \n",
      "     |  __weakref__\n",
      "     |      list of weak references to the object (if defined)\n",
      "    \n",
      "    class Game(builtins.object)\n",
      "     |  Game(dice_list)\n",
      "     |  \n",
      "     |  Allows the user to generate the game values. The user indicates the number of rolls.\n",
      "     |  \n",
      "     |  Purpose: Allows the end user to indicate the number of rolls to generate as many dice as needed.\n",
      "     |  \n",
      "     |  Input(s): dataframe for the die; a value for the number of times to roll the die.\n",
      "     |  \n",
      "     |  Output(s): A list os dice rolls generated by the end user.\n",
      "     |  \n",
      "     |  Methods defined here:\n",
      "     |  \n",
      "     |  __init__(self, dice_list)\n",
      "     |      Initializer - Initializes the game with a list of die objects created in the DieClass class above.\n",
      "     |      \n",
      "     |      Purpose: Initializes the game.\n",
      "     |      \n",
      "     |      Input(s): DieClass objects\n",
      "     |      \n",
      "     |      Output(s): Initialized variables\n",
      "     |  \n",
      "     |  play(self, num_rolls)\n",
      "     |      Simulate dice rolls for the number of rolls provided.\n",
      "     |      \n",
      "     |      Purpose: Rolls the dice.\n",
      "     |      \n",
      "     |      Input(s): num_rolls - Number of times to roll the dice\n",
      "     |      \n",
      "     |      Output(s): Wide format data frame\n",
      "     |  \n",
      "     |  show(self, form='wide')\n",
      "     |      Purpose: Return the results of the most recent play in the specified format.\n",
      "     |      \n",
      "     |      Input(s): string specifying the format ('wide' or 'narrow').\n",
      "     |      \n",
      "     |      Output(s): A copy of the play results in the desired format.\n",
      "     |  \n",
      "     |  ----------------------------------------------------------------------\n",
      "     |  Data descriptors defined here:\n",
      "     |  \n",
      "     |  __dict__\n",
      "     |      dictionary for instance variables (if defined)\n",
      "     |  \n",
      "     |  __weakref__\n",
      "     |      list of weak references to the object (if defined)\n",
      "\n",
      "FILE\n",
      "    /sfs/gpfs/tardis/home/fbv2ub/Documents/MSDS/DS5100/DS5100-fbv2ub/MonteCarloSimulator/MonteCarloSimulator/MonteCarloSimulator.py\n",
      "\n",
      "\n"
     ]
    }
   ],
   "source": [
    "help(MonteCarloSimulator)"
   ]
  },
  {
   "cell_type": "markdown",
   "id": "a9defa84-b395-4966-bd1c-5c6c2bb7ed68",
   "metadata": {
    "tags": []
   },
   "source": [
    "## `README.md` File (3)\n",
    "\n",
    "Provide link to the README.md file of your project's repo.\n",
    "\n",
    "- Metadata section or info present (1).\n",
    "- Synopsis section showing how each class is called (1). (All must be included.)\n",
    "- API section listing all classes and methods (1). (All must be included.)"
   ]
  },
  {
   "cell_type": "markdown",
   "id": "ee090b33-d593-48a0-bf35-e739cea0942c",
   "metadata": {},
   "source": [
    "URL: https://github.com/clbelle/Monte-Carlo-Simulator_fbv2ub/blob/main/README.md"
   ]
  },
  {
   "cell_type": "markdown",
   "id": "108604c8-8827-42ef-ab59-6b25428fc0ca",
   "metadata": {},
   "source": [
    "## Successful installation (2)\n",
    "\n",
    "Put a screenshot or paste a copy of a terminal session where you successfully install your module with pip.\n",
    "\n",
    "If pasting text, use a preformatted text block to show the results.\n",
    "\n",
    "- Installed with `pip` (1).\n",
    "- Successfully installed message appears (1)."
   ]
  },
  {
   "cell_type": "raw",
   "id": "65d1b191-b191-44d7-a9a1-19e7621a4f98",
   "metadata": {},
   "source": [
    "C:\\Users\\camis\\OneDrive\\Documents\\Education\\MSDS\\DS 5100 Programming for Data Science\\Project\\MonteCarloSimulator>pip install dist\\MonteCarloSimulator-1.0.0-py3-none-any.whl\n",
    "Processing c:\\users\\camis\\onedrive\\documents\\education\\msds\\ds 5100 programming for data science\\project\\montecarlosimulator\\dist\\montecarlosimulator-1.0.0-py3-none-any.whl\n",
    "Requirement already satisfied: numpy>=1.11.1 in c:\\users\\camis\\appdata\\local\\programs\\python\\python312\\lib\\site-packages (from MonteCarloSimulator==1.0.0) (2.1.0)\n",
    "Requirement already satisfied: pandas>=2.0.3 in c:\\users\\camis\\appdata\\local\\programs\\python\\python312\\lib\\site-packages (from MonteCarloSimulator==1.0.0) (2.2.2)\n",
    "Requirement already satisfied: python-dateutil>=2.8.2 in c:\\users\\camis\\appdata\\local\\programs\\python\\python312\\lib\\site-packages (from pandas>=2.0.3->MonteCarloSimulator==1.0.0) (2.9.0.post0)\n",
    "Requirement already satisfied: pytz>=2020.1 in c:\\users\\camis\\appdata\\local\\programs\\python\\python312\\lib\\site-packages (from pandas>=2.0.3->MonteCarloSimulator==1.0.0) (2024.1)\n",
    "Requirement already satisfied: tzdata>=2022.7 in c:\\users\\camis\\appdata\\local\\programs\\python\\python312\\lib\\site-packages (from pandas>=2.0.3->MonteCarloSimulator==1.0.0) (2024.1)\n",
    "Requirement already satisfied: six>=1.5 in c:\\users\\camis\\appdata\\local\\programs\\python\\python312\\lib\\site-packages (from python-dateutil>=2.8.2->pandas>=2.0.3->MonteCarloSimulator==1.0.0) (1.16.0)\n",
    "Installing collected packages: MonteCarloSimulator\n",
    "Successfully installed MonteCarloSimulator-1.0.0"
   ]
  },
  {
   "cell_type": "markdown",
   "id": "7c44695d-d1b3-4edf-9f94-e64d7446f199",
   "metadata": {},
   "source": [
    "# Scenarios\n",
    "\n",
    "Use code blocks to perform the tasks for each scenario.\n",
    "\n",
    "Be sure the outputs are visible before submitting."
   ]
  },
  {
   "cell_type": "markdown",
   "id": "e2479eae-6fc9-44cd-b8d7-9b22cb501f2a",
   "metadata": {
    "tags": []
   },
   "source": [
    "## Scenario 1: A 2-headed Coin (9)\n",
    "\n",
    "Task 1. Create a fair coin (with faces $H$ and $T$) and one unfair coin in which one of the faces has a weight of $5$ and the others $1$.\n",
    "\n",
    "- Fair coin created (1).\n",
    "- Unfair coin created with weight as specified (1)."
   ]
  },
  {
   "cell_type": "code",
   "execution_count": 60,
   "id": "55ce498e-c75f-4425-9e3e-b635bd6cd9e1",
   "metadata": {},
   "outputs": [
    {
     "name": "stdout",
     "output_type": "stream",
     "text": [
      "Fair Coin Die:\n",
      "      weight\n",
      "face        \n",
      "H        1.0\n",
      "T        1.0\n",
      "Unfair Coin Die:\n",
      "      weight\n",
      "face        \n",
      "H        5.0\n",
      "T        1.0\n"
     ]
    }
   ],
   "source": [
    "#Fair coin\n",
    "faces = np.array([\"H\", \"T\"])\n",
    "die_fair = DieClass(faces)\n",
    "    \n",
    "#die_fair.set_weight(\"H\", 1.0)\n",
    "print(\"Fair Coin Die:\")\n",
    "print(die_fair.show())\n",
    "\n",
    "#Unfair coin\n",
    "faces = np.array([\"H\", \"T\"])\n",
    "die_unfair = DieClass(faces)\n",
    "    \n",
    "die_unfair.set_weight(\"H\", 5.0)\n",
    "print(\"Unfair Coin Die:\")\n",
    "print(die_unfair.show())"
   ]
  },
  {
   "cell_type": "markdown",
   "id": "02b272ab-99da-4b6e-ac2a-555b73e09c07",
   "metadata": {},
   "source": [
    "Task 2. Play a game of $1000$ flips with two fair dice.\n",
    "\n",
    "- Play method called correclty and without error (1)."
   ]
  },
  {
   "cell_type": "code",
   "execution_count": 61,
   "id": "65c92601-d32d-4326-b215-74953aee27f2",
   "metadata": {},
   "outputs": [],
   "source": [
    "# Create dice\n",
    "die1 = DieClass(np.array([\"H\", \"T\"]))\n",
    "die2 = DieClass(np.array([\"H\", \"T\"]))\n",
    "\n",
    "# Create and play the game\n",
    "game1 = Game([die1, die2])\n",
    "game1.play(1000)\n",
    "\n",
    "# Show results in wide format\n",
    "#print(\"Results in wide format:\")\n",
    "#print(game1.show(form=\"wide\"))\n",
    "\n",
    "# Show results in narrow format\n",
    "#print(\"\\nResults in narrow format:\")\n",
    "#print(game1.show(form=\"narrow\"))"
   ]
  },
  {
   "cell_type": "markdown",
   "id": "7d9c3dc8-22c1-4cae-81fb-d68d774a05d1",
   "metadata": {},
   "source": [
    "Task 3. Play another game (using a new Game object) of $1000$ flips, this time using two unfair dice and one fair die. For the second unfair die, you can use the same die object twice in the list of dice you pass to the Game object.\n",
    "\n",
    "- New game object created (1).\n",
    "- Play method called correclty and without error (1)."
   ]
  },
  {
   "cell_type": "code",
   "execution_count": 71,
   "id": "d4098bed-1eb2-4084-8d5e-9fda07c3be43",
   "metadata": {},
   "outputs": [],
   "source": [
    "# Create dice\n",
    "die3 = DieClass(np.array([\"H\", \"T\"]))\n",
    "die4 = DieClass(np.array([\"H\", \"T\"]))\n",
    "\n",
    "die4.set_weight(\"H\", 5.0)\n",
    "\n",
    "game2 = Game([die3, die4, die4])\n",
    "game2.play(1000)\n",
    "\n",
    "# Show results in wide format\n",
    "#print(\"Results in wide format:\")\n",
    "#print(game2.show(form=\"wide\"))\n",
    "\n",
    "# Show results in narrow format\n",
    "#print(\"\\nResults in narrow format:\")\n",
    "#print(game2.show(form=\"narrow\"))"
   ]
  },
  {
   "cell_type": "markdown",
   "id": "f690ebfc-fe71-4eb2-976d-7ac80ca6c23f",
   "metadata": {},
   "source": [
    "Task 4. For each game, use an Analyzer object to determine the raw frequency of jackpots — i.e. getting either all $H$s or all $T$s.\n",
    "\n",
    "- Analyzer objecs instantiated for both games (1).\n",
    "- Raw frequencies reported for both (1)."
   ]
  },
  {
   "cell_type": "code",
   "execution_count": 72,
   "id": "b26b8b7e-3be7-4476-a9a4-37d97536729e",
   "metadata": {},
   "outputs": [
    {
     "name": "stdout",
     "output_type": "stream",
     "text": [
      "Jackpots game 1: 1514\n",
      "Jackpots game 2: 1627\n"
     ]
    }
   ],
   "source": [
    "analyzer1 = Analyzer(game1)\n",
    "print(\"Jackpots game 1:\", analyzer1.jackpot())\n",
    "\n",
    "analyzer2 = Analyzer(game2)\n",
    "print(\"Jackpots game 2:\", analyzer2.jackpot())"
   ]
  },
  {
   "cell_type": "markdown",
   "id": "b73d233c-445e-40cd-8858-0c5e1f097105",
   "metadata": {},
   "source": [
    "Task 5. For each analyzer, compute relative frequency as the number of jackpots over the total number of rolls.\n",
    "\n",
    "- Both relative frequencies computed (1)."
   ]
  },
  {
   "cell_type": "code",
   "execution_count": 73,
   "id": "9a96b31b-1b9d-496e-be3e-4bf83c45ec3a",
   "metadata": {},
   "outputs": [
    {
     "name": "stdout",
     "output_type": "stream",
     "text": [
      "Jackpots relative frequency game 1: 0.757\n",
      "Jackpots relative frequency game 2: 0.5423333333333333\n"
     ]
    }
   ],
   "source": [
    "analyzer1 = Analyzer(game1)\n",
    "print(\"Jackpots relative frequency game 1:\", analyzer1.jackpot()/2000)\n",
    "\n",
    "analyzer2 = Analyzer(game2)\n",
    "print(\"Jackpots relative frequency game 2:\", analyzer2.jackpot()/3000)"
   ]
  },
  {
   "cell_type": "markdown",
   "id": "a6e1e734-7f5c-4721-8ba4-2f3a424cf984",
   "metadata": {},
   "source": [
    "Task 6. Show your results, comparing the two relative frequencies, in a simple bar chart.\n",
    "\n",
    "- Bar chart plotted and correct (1)."
   ]
  },
  {
   "cell_type": "code",
   "execution_count": 74,
   "id": "473fa67c-aa53-4aa3-a0b7-e8772b3f6ed3",
   "metadata": {},
   "outputs": [
    {
     "data": {
      "image/png": "[encoded data removed]",
      "text/plain": [
       "<Figure size 640x480 with 1 Axes>"
      ]
     },
     "metadata": {},
     "output_type": "display_data"
    }
   ],
   "source": [
    "import matplotlib.pyplot as plt\n",
    "\n",
    "data = {'Game 1': analyzer1.jackpot()/2000, 'Game 2': analyzer2.jackpot()/3000}\n",
    "game = list(data.keys())\n",
    "rel_freq = list(data.values())\n",
    "\n",
    "fig = plt.figure()\n",
    "\n",
    "# bar plot\n",
    "plt.bar(game, rel_freq, color ='orange', \n",
    "        width = 0.4)\n",
    "\n",
    "plt.xlabel(\"Games\")\n",
    "plt.ylabel(\"Relative frequency of the number of jackpots\")\n",
    "plt.title(\"Proportion of Rolls Resulting in Jackpots by Game\")\n",
    "plt.show()"
   ]
  },
  {
   "cell_type": "markdown",
   "id": "725cfa5b-e4b7-47c9-86aa-8d9e1fe6c8c7",
   "metadata": {},
   "source": [
    "## Scenario 2: A 6-sided Die (9)\n",
    "\n",
    "Task 1. Create three dice, each with six sides having the faces 1 through 6.\n",
    "\n",
    "- Three die objects created (1)."
   ]
  },
  {
   "cell_type": "code",
   "execution_count": 88,
   "id": "6a8bc611-325a-4e05-88d5-980e0a2cf7c5",
   "metadata": {},
   "outputs": [
    {
     "name": "stdout",
     "output_type": "stream",
     "text": [
      "      weight\n",
      "face        \n",
      "1        1.0\n",
      "2        1.0\n",
      "3        1.0\n",
      "4        1.0\n",
      "5        1.0\n",
      "6        1.0\n",
      "      weight\n",
      "face        \n",
      "1        1.0\n",
      "2        1.0\n",
      "3        1.0\n",
      "4        1.0\n",
      "5        1.0\n",
      "6        1.0\n",
      "      weight\n",
      "face        \n",
      "1        1.0\n",
      "2        1.0\n",
      "3        1.0\n",
      "4        1.0\n",
      "5        1.0\n",
      "6        1.0\n"
     ]
    }
   ],
   "source": [
    "# Create dice\n",
    "die2_1 = DieClass(np.array([1, 2, 3, 4, 5, 6]))\n",
    "die2_2 = DieClass(np.array([1, 2, 3, 4, 5, 6]))\n",
    "die2_3 = DieClass(np.array([1, 2, 3, 4, 5, 6]))\n",
    "\n",
    "print(die2_1.show())\n",
    "print(die2_2.show())\n",
    "print(die2_3.show())"
   ]
  },
  {
   "cell_type": "markdown",
   "id": "2ed3ad26-fbe9-43bd-9ad7-f683a4191d12",
   "metadata": {},
   "source": [
    "Task 2. Convert one of the dice to an unfair one by weighting the face $6$ five times more than the other weights (i.e. it has weight of 5 and the others a weight of 1 each).\n",
    "\n",
    "- Unfair die created with proper call to weight change method (1)."
   ]
  },
  {
   "cell_type": "code",
   "execution_count": 89,
   "id": "e33dd18f-7f90-456d-a680-61c08a328e21",
   "metadata": {},
   "outputs": [
    {
     "name": "stdout",
     "output_type": "stream",
     "text": [
      "      weight\n",
      "face        \n",
      "1        1.0\n",
      "2        1.0\n",
      "3        1.0\n",
      "4        1.0\n",
      "5        1.0\n",
      "6        5.0\n"
     ]
    }
   ],
   "source": [
    "die2_3.set_weight(6, 5.0)\n",
    "\n",
    "print(die2_3.show())"
   ]
  },
  {
   "cell_type": "markdown",
   "id": "7f6c062a-4c5b-45b9-96b8-76a0354c7e47",
   "metadata": {},
   "source": [
    "Task 3. Convert another of the dice to be unfair by weighting the face $1$ five times more than the others.\n",
    "\n",
    "- Unfair die created with proper call to weight change method (1)."
   ]
  },
  {
   "cell_type": "code",
   "execution_count": 90,
   "id": "01133a4e-6b06-4246-8d90-8e6d6995be51",
   "metadata": {},
   "outputs": [
    {
     "name": "stdout",
     "output_type": "stream",
     "text": [
      "      weight\n",
      "face        \n",
      "1        5.0\n",
      "2        1.0\n",
      "3        1.0\n",
      "4        1.0\n",
      "5        1.0\n",
      "6        1.0\n"
     ]
    }
   ],
   "source": [
    "die2_2.set_weight(1, 5.0)\n",
    "\n",
    "print(die2_2.show())"
   ]
  },
  {
   "cell_type": "markdown",
   "id": "f0ed31cb-0a3c-4eb2-b85e-6ed6b2eb6e58",
   "metadata": {},
   "source": [
    "Task 4. Play a game of $10000$ rolls with $5$ fair dice.\n",
    "\n",
    "- Game class properly instantiated (1). \n",
    "- Play method called properly (1)."
   ]
  },
  {
   "cell_type": "code",
   "execution_count": 91,
   "id": "e92395a4-9ed8-4cb0-8c85-38768a784ffc",
   "metadata": {},
   "outputs": [],
   "source": [
    "# Create and play the game\n",
    "game2_1 = Game([die2_1, die2_1, die2_1, die2_1, die2_1])\n",
    "game2_1.play(10000)"
   ]
  },
  {
   "cell_type": "markdown",
   "id": "7814b402-46a4-40e5-8141-20e05c3e646b",
   "metadata": {},
   "source": [
    "Task 5. Play another game of $10000$ rolls, this time with $2$ unfair dice, one as defined in steps #2 and #3 respectively, and $3$ fair dice.\n",
    "\n",
    "- Game class properly instantiated (1). \n",
    "- Play method called properly (1)."
   ]
  },
  {
   "cell_type": "code",
   "execution_count": 92,
   "id": "7cd58fba-b2a5-4d5d-bc6d-2a7a68d18c4f",
   "metadata": {},
   "outputs": [],
   "source": [
    "# Create and play the game\n",
    "game2_2 = Game([die2_2, die2_3, die2_1, die2_1, die2_1])\n",
    "game2_2.play(10000)"
   ]
  },
  {
   "cell_type": "markdown",
   "id": "7b6cd372-2bb8-4df8-ade1-8f48bc300955",
   "metadata": {},
   "source": [
    "Task 6. For each game, use an Analyzer object to determine the relative frequency of jackpots and show your results, comparing the two relative frequencies, in a simple bar chart.\n",
    "\n",
    "- Jackpot methods called (1).\n",
    "- Graph produced (1)."
   ]
  },
  {
   "cell_type": "code",
   "execution_count": 93,
   "id": "bbdcf695-8937-406e-9b53-aa0b9ee3c59a",
   "metadata": {},
   "outputs": [
    {
     "data": {
      "image/png": "[encoded data removed]",
      "text/plain": [
       "<Figure size 640x480 with 1 Axes>"
      ]
     },
     "metadata": {},
     "output_type": "display_data"
    }
   ],
   "source": [
    "analyzer2_1 = Analyzer(game2_1)\n",
    "\n",
    "analyzer2_2 = Analyzer(game2_2)\n",
    "\n",
    "data = {'Game 1': analyzer2_1.jackpot()/50000, 'Game 2': analyzer2_2.jackpot()/50000}\n",
    "game = list(data.keys())\n",
    "rel_freq = list(data.values())\n",
    "\n",
    "fig = plt.figure()\n",
    "\n",
    "# bar plot\n",
    "plt.bar(game, rel_freq, color ='orange', \n",
    "        width = 0.4)\n",
    "\n",
    "plt.xlabel(\"Games\")\n",
    "plt.ylabel(\"Relative frequency of the number of jackpots\")\n",
    "plt.title(\"Proportion of Rolls Resulting in Jackpots by Game\")\n",
    "plt.show()"
   ]
  },
  {
   "cell_type": "markdown",
   "id": "9f04e9be-8fcf-4ea4-a391-6614608285f8",
   "metadata": {},
   "source": [
    "## Scenario 3: Letters of the Alphabet (7)\n",
    "\n",
    "Task 1. Create a \"die\" of letters from $A$ to $Z$ with weights based on their frequency of usage as found in the data file `english_letters.txt`. Use the frequencies (i.e. raw counts) as weights.\n",
    "\n",
    "- Die correctly instantiated with source file data (1).\n",
    "- Weights properly applied using weight setting method (1)."
   ]
  },
  {
   "cell_type": "code",
   "execution_count": 115,
   "id": "b0ceb771-3cdf-4d8f-8c2c-020806bbb909",
   "metadata": {},
   "outputs": [],
   "source": [
    "# Open file\n",
    "data = pd.read_csv('english_letters.txt',delim_whitespace=True, header=None)\n",
    "data.columns = ['letter','weight']\n",
    "#print(data)\n",
    "\n",
    "letters = data.iloc[:, 0].to_numpy()\n",
    "weights = data.iloc[:, 1].to_numpy()\n",
    "#print(letters)\n",
    "#print(weights)\n",
    "\n",
    "die3_1 = DieClass(letters)\n",
    "\n",
    "for i in range(len(weights)):\n",
    "    die3_1.set_weight(letters[i], weights[i])\n",
    "    \n",
    "#print(die3_1.show())"
   ]
  },
  {
   "cell_type": "markdown",
   "id": "88e2e14a-6223-470a-a2c8-bca1120d7a5b",
   "metadata": {},
   "source": [
    "Task 2. Play a game involving $4$ of these dice with $1000$ rolls.\n",
    "\n",
    "- Game play method properly called (1)."
   ]
  },
  {
   "cell_type": "code",
   "execution_count": 119,
   "id": "2ae087cc-936d-4f1e-bddb-a7c179d139e0",
   "metadata": {},
   "outputs": [],
   "source": [
    "game3_1 = Game([die3_1, die3_1, die3_1, die3_1])\n",
    "game3_1.play(1000)"
   ]
  },
  {
   "cell_type": "markdown",
   "id": "3b9ff800-bf1f-4f66-9d7f-ff57a648e9f0",
   "metadata": {},
   "source": [
    "Task 3. Determine how many permutations in your results are actual English words, based on the vocabulary found in `scrabble_words.txt`.\n",
    "\n",
    "- Use permutation method (1).\n",
    "- Get count as difference between permutations and vocabulary (1)."
   ]
  },
  {
   "cell_type": "code",
   "execution_count": 130,
   "id": "ed3709ad-6f96-4bce-96da-77c73363d131",
   "metadata": {},
   "outputs": [
    {
     "ename": "SyntaxError",
     "evalue": "'return' outside function (2058046118.py, line 13)",
     "output_type": "error",
     "traceback": [
      "\u001b[0;36m  Cell \u001b[0;32mIn[130], line 13\u001b[0;36m\u001b[0m\n\u001b[0;31m    return valid_word_count\u001b[0m\n\u001b[0m    ^\u001b[0m\n\u001b[0;31mSyntaxError\u001b[0m\u001b[0;31m:\u001b[0m 'return' outside function\n"
     ]
    }
   ],
   "source": [
    "data = pd.read_csv('scrabble_words.txt')\n",
    "words = data.iloc[:, 0].to_numpy()\n",
    "\n",
    "analyzer3_1 = Analyzer(game3_1)\n",
    "\n",
    "permutation_counts = analyzer3_1.permutation_count()\n",
    "\n",
    "valid_word_count = 0\n",
    "for perm in permutation_counts.index:\n",
    "    word = ''.join(perm).lower()\n",
    "    if word in words:\n",
    "        valid_word_count += permutation_counts.loc[perm, 'Counts']\n",
    "return valid_word_count\n",
    "\n",
    "print(f\"Number of valid English word permutations: {valid_word_count}\")"
   ]
  },
  {
   "cell_type": "markdown",
   "id": "fcf068cf-381a-4b3e-ac3a-0510eb4dbdb0",
   "metadata": {},
   "source": [
    "Task 4. Repeat steps #2 and #3, this time with $5$ dice. How many actual words does this produce? Which produces more?\n",
    "\n",
    "- Successfully repreats steps (1).\n",
    "- Identifies parameter with most found words (1)."
   ]
  },
  {
   "cell_type": "code",
   "execution_count": 131,
   "id": "ed1c7fa0-cfa3-4cf4-9fd0-9f84b86b0f64",
   "metadata": {},
   "outputs": [
    {
     "ename": "SyntaxError",
     "evalue": "'return' outside function (2618893657.py, line 13)",
     "output_type": "error",
     "traceback": [
      "\u001b[0;36m  Cell \u001b[0;32mIn[131], line 13\u001b[0;36m\u001b[0m\n\u001b[0;31m    return valid_word_count\u001b[0m\n\u001b[0m    ^\u001b[0m\n\u001b[0;31mSyntaxError\u001b[0m\u001b[0;31m:\u001b[0m 'return' outside function\n"
     ]
    }
   ],
   "source": [
    "game3_2 = Game([die3_1, die3_1, die3_1, die3_1, die3_1])\n",
    "game3_2.play(1000)\n",
    "\n",
    "analyzer3_2 = Analyzer(game3_2)\n",
    "\n",
    "permutation_counts = analyzer3_2.permutation_count()\n",
    "\n",
    "valid_word_count = 0\n",
    "for perm in permutation_counts.index:\n",
    "    word = ''.join(perm).lower()\n",
    "    if word in words:\n",
    "        valid_word_count += permutation_counts.loc[perm, 'Counts']\n",
    "return valid_word_count\n",
    "\n",
    "print(f\"Number of valid English word permutations: {valid_word_count}\")"
   ]
  },
  {
   "cell_type": "code",
   "execution_count": null,
   "id": "3f10e097-4efb-4547-992d-d66ed47d3fd9",
   "metadata": {},
   "outputs": [],
   "source": []
  }
 ],
 "metadata": {
  "kernelspec": {
   "display_name": "Python 3 (ipykernel)",
   "language": "python",
   "name": "python3"
  },
  "language_info": {
   "codemirror_mode": {
    "name": "ipython",
    "version": 3
   },
   "file_extension": ".py",
   "mimetype": "text/x-python",
   "name": "python",
   "nbconvert_exporter": "python",
   "pygments_lexer": "ipython3",
   "version": "3.11.4"
  },
  "toc-autonumbering": true,
  "widgets": {
   "application/vnd.jupyter.widget-state+json": {
    "state": {},
    "version_major": 2,
    "version_minor": 0
   }
  }
 },
 "nbformat": 4,
 "nbformat_minor": 5
}
